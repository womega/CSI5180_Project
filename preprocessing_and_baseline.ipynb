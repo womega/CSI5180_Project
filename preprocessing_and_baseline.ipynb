{
 "cells": [
  {
   "cell_type": "markdown",
   "metadata": {},
   "source": [
    "# Imports"
   ]
  },
  {
   "cell_type": "code",
   "execution_count": 233,
   "metadata": {
    "ExecuteTime": {
     "end_time": "2021-04-01T17:18:38.404868Z",
     "start_time": "2021-04-01T17:18:33.784375Z"
    }
   },
   "outputs": [],
   "source": [
    "import os\n",
    "import shutil\n",
    "\n",
    "import tensorflow as tf\n",
    "import tensorflow_hub as hub\n",
    "import tensorflow_text as text\n",
    "#from official.nlp import optimization  # to create AdamW optmizer\n",
    "import torch\n",
    "from transformers import BertTokenizer, BertModel, TFBertForSequenceClassification\n",
    "\n",
    "import codecs\n",
    "import numpy as np\n",
    "import seaborn as sns\n",
    "import pandas as pd\n",
    "import json as js\n",
    "\n",
    "import matplotlib.pyplot as plt\n",
    "\n",
    "tf.get_logger().setLevel('ERROR')\n",
    "from tqdm import tqdm\n",
    "from collections import Counter\n",
    "from sklearn.preprocessing import LabelEncoder, StandardScaler\n",
    "from sklearn.model_selection import train_test_split"
   ]
  },
  {
   "cell_type": "markdown",
   "metadata": {},
   "source": [
    "# Opening files & Conversion"
   ]
  },
  {
   "cell_type": "markdown",
   "metadata": {},
   "source": [
    "## Opening"
   ]
  },
  {
   "cell_type": "code",
   "execution_count": 2,
   "metadata": {
    "ExecuteTime": {
     "end_time": "2021-03-31T21:29:42.972596Z",
     "start_time": "2021-03-31T21:29:42.946363Z"
    }
   },
   "outputs": [],
   "source": [
    "with open('dataset/AskUbuntuCorpus.json') as f:\n",
    "    askubuntu = js.load(f)\n",
    "\n",
    "with open('dataset/ChatbotCorpus.json') as f:\n",
    "    chatbot = js.load(f)\n",
    "\n",
    "with open('dataset/WebApplicationsCorpus.json') as f:\n",
    "    webapps = js.load(f)"
   ]
  },
  {
   "cell_type": "markdown",
   "metadata": {},
   "source": [
    "## Conversion & split"
   ]
  },
  {
   "cell_type": "code",
   "execution_count": 225,
   "metadata": {
    "ExecuteTime": {
     "end_time": "2021-04-01T16:52:57.420446Z",
     "start_time": "2021-04-01T16:52:57.385190Z"
    }
   },
   "outputs": [
    {
     "name": "stdout",
     "output_type": "stream",
     "text": [
      "\n",
      "AskUbuntu Labels\n",
      "----------------\n",
      "\n",
      "Original Labels Train/Val\n",
      "-------------------------\n",
      "Counter({'Software Recommendation': 17, 'Shutdown Computer': 13, 'Make Update': 10, 'Setup Printer': 10, 'None': 3})\n",
      "\n",
      "Encoded Labels Train/Val\n",
      "------------------------\n",
      "Counter({4: 17, 3: 13, 0: 10, 2: 10, 1: 3})\n",
      "\n",
      "Original Labels Test\n",
      "--------------------\n",
      "Counter({'Software Recommendation': 40, 'Make Update': 37, 'Shutdown Computer': 14, 'Setup Printer': 13, 'None': 5})\n",
      "\n",
      "Encoded Labels Test\n",
      "-------------------\n",
      "Counter({4: 40, 0: 37, 3: 14, 2: 13, 1: 5})\n",
      "\n",
      "----------------\n",
      "\n",
      "\n",
      "Chatbot Labels\n",
      "--------------\n",
      "\n",
      "Original Labels Train/Val\n",
      "-------------------------\n",
      "Counter({'FindConnection': 57, 'DepartureTime': 43})\n",
      "\n",
      "Encoded Labels Train/Val\n",
      "------------------------\n",
      "Counter({1: 57, 0: 43})\n",
      "\n",
      "Original Labels Test\n",
      "--------------------\n",
      "Counter({'FindConnection': 71, 'DepartureTime': 35})\n",
      "\n",
      "Encoded Labels Test\n",
      "-------------------\n",
      "Counter({1: 71, 0: 35})\n",
      "\n",
      "----------------\n",
      "\n",
      "\n",
      "WebApps Labels\n",
      "--------------\n",
      "\n",
      "Original Labels Train/Val\n",
      "-------------------------\n",
      "Counter({'Find Alternative': 7, 'Delete Account': 7, 'Filter Spam': 6, 'Sync Accounts': 3, 'Change Password': 2, 'None': 2, 'Export Data': 2, 'Download Video': 1})\n",
      "\n",
      "Encoded Labels Train/Val\n",
      "------------------------\n",
      "Counter({5: 7, 1: 7, 4: 6, 7: 3, 0: 2, 6: 2, 3: 2, 2: 1})\n",
      "\n",
      "Original Labels Test\n",
      "--------------------\n",
      "Counter({'Find Alternative': 16, 'Filter Spam': 14, 'Delete Account': 10, 'Sync Accounts': 6, 'Change Password': 6, 'None': 4, 'Export Data': 3})\n",
      "\n",
      "Encoded Labels Test\n",
      "-------------------\n",
      "Counter({4: 16, 3: 14, 1: 10, 6: 6, 0: 6, 5: 4, 2: 3})\n"
     ]
    }
   ],
   "source": [
    "def create_train_test(ds):\n",
    "    new_dict = {}\n",
    "    for k,v in [(key,d[key]) for d in ds['sentences'] for key in d]:\n",
    "        if k not in new_dict: \n",
    "            new_dict[k]=[v]\n",
    "        else: new_dict[k].append(v)\n",
    "            \n",
    "    # remove unnecessary keys   \n",
    "    \n",
    "    for a in ['author', 'url', 'entities', 'answer']:\n",
    "        new_dict.pop(a, '')\n",
    "        \n",
    "    new_df = pd.DataFrame(new_dict)\n",
    "    \n",
    "    #### Splitting train and test\n",
    "    \n",
    "    train = new_df.loc[new_df['training'] == True].reset_index(drop = True).drop('training', axis=1)\n",
    "    \n",
    "    X = train.text\n",
    "    y = train.intent\n",
    "    \n",
    "    ### Label encoding\n",
    "    print(\"Original Labels Train/Val\")\n",
    "    print(\"-------------------------\")\n",
    "    print(Counter(y))\n",
    "    le = LabelEncoder()\n",
    "    l = le.fit_transform(y)\n",
    "    print(\"\\nEncoded Labels Train/Val\")\n",
    "    print(\"------------------------\")\n",
    "    print(Counter(l))\n",
    "    \n",
    "    X_train, X_val, y_train, y_val = train_test_split(X, l, test_size=0.2, random_state=1)\n",
    "    \n",
    "    test = new_df.loc[new_df['training'] != True].reset_index(drop = True).drop('training', axis=1)\n",
    "    \n",
    "    X_test = test.text\n",
    "    y_test = test.intent\n",
    "    \n",
    "    ### Label encoding\n",
    "    print(\"\\nOriginal Labels Test\")\n",
    "    print(\"--------------------\")\n",
    "    print(Counter(y_test))\n",
    "    le = LabelEncoder()\n",
    "    y_test = le.fit_transform(y_test)\n",
    "    print(\"\\nEncoded Labels Test\")\n",
    "    print(\"-------------------\")\n",
    "    print(Counter(y_test))\n",
    "    \n",
    "    #askubuntu_ds = \n",
    "    #askubuntu_df = \n",
    "\n",
    "    \n",
    "    return X_train.to_numpy(), X_test.to_numpy(), X_val.to_numpy(), y_train, y_test, y_val\n",
    "\n",
    "##### askubuntu\n",
    "print(\"\\nAskUbuntu Labels\")\n",
    "print(\"----------------\\n\")\n",
    "askubuntu_X_train, askubuntu_X_test, askubuntu_X_val, askubuntu_y_test, askubuntu_y_val = create_train_test(askubuntu)\n",
    "\n",
    "##### chatbot\n",
    "print(\"\\n----------------\\n\")\n",
    "print(\"\\nChatbot Labels\")\n",
    "print(\"--------------\\n\")\n",
    "chatbot_X_train, chatbot_X_test, chatbot_X_val, chatbot_y_train, chatbot_y_test, chatbot_y_val = create_train_test(chatbot)\n",
    "\n",
    "##### webapps\n",
    "print(\"\\n----------------\\n\")\n",
    "print(\"\\nWebApps Labels\")\n",
    "print(\"--------------\\n\")\n",
    "webapps_X_train, webapps_X_test, webapps_X_val, webapps_y_train, webapps_y_test, webapps_y_val = create_train_test(webapps)\n",
    "\n",
    "###### create .csv files\n",
    "\n",
    "# pd.DataFrame({\"text\":askubuntu_X_train,\"intent\": askubuntu_y_train}).to_csv('dataset/askubuntu_train.csv', index=False,header=True)\n",
    "# pd.DataFrame({\"text\":askubuntu_X_val,\"intent\": askubuntu_y_val}).to_csv('dataset/askubuntu_val.csv', index=False,header=True)\n",
    "# pd.DataFrame({\"text\":askubuntu_X_test,\"intent\": askubuntu_y_test}).to_csv('dataset/askubuntu_test.csv', index=False,header=True)\n",
    "# pd.DataFrame({\"text\":chatbot_X_train,\"intent\": chatbot_y_train}).to_csv('dataset/chatbot_train.csv', index=False,header=True)\n",
    "# pd.DataFrame({\"text\":chatbot_X_val,\"intent\": chatbot_y_val}).to_csv('dataset/chatbot_val.csv', index=False,header=True)\n",
    "# pd.DataFrame({\"text\":chatbot_X_test,\"intent\": chatbot_y_test}).to_csv('dataset/chatbot_test.csv', index=False,header=True)\n",
    "# pd.DataFrame({\"text\":webapps_X_train,\"intent\": webapps_y_train}).to_csv('dataset/webapps_train.csv', index=False,header=True)\n",
    "# pd.DataFrame({\"text\":webapps_X_val,\"intent\": webapps_y_val}).to_csv('dataset/webapps_val.csv', index=False,header=True)\n",
    "# pd.DataFrame({\"text\":webapps_X_test,\"intent\": webapps_y_test}).to_csv('dataset/webapps_test.csv', index=False,header=True)"
   ]
  },
  {
   "cell_type": "markdown",
   "metadata": {},
   "source": [
    "### AskUbuntu"
   ]
  },
  {
   "cell_type": "code",
   "execution_count": 226,
   "metadata": {
    "ExecuteTime": {
     "end_time": "2021-04-01T16:53:01.636606Z",
     "start_time": "2021-04-01T16:53:01.631863Z"
    }
   },
   "outputs": [
    {
     "name": "stdout",
     "output_type": "stream",
     "text": [
      "Number of training instances\t 42\n",
      "Number of validation instances\t 11\n",
      "Number of testing instances\t 109\n"
     ]
    }
   ],
   "source": [
    "print(\"Number of training instances\\t\", len(askubuntu_X_train))\n",
    "print(\"Number of validation instances\\t\", len(askubuntu_X_val))\n",
    "print(\"Number of testing instances\\t\", len(askubuntu_X_test))"
   ]
  },
  {
   "cell_type": "code",
   "execution_count": 227,
   "metadata": {
    "ExecuteTime": {
     "end_time": "2021-04-01T16:53:02.885105Z",
     "start_time": "2021-04-01T16:53:02.877869Z"
    }
   },
   "outputs": [
    {
     "name": "stdout",
     "output_type": "stream",
     "text": [
      "Counter({4: 12, 3: 10, 2: 9, 0: 8, 1: 3})\n",
      "Counter({4: 5, 3: 3, 0: 2, 2: 1})\n",
      "Counter({4: 40, 0: 37, 3: 14, 2: 13, 1: 5})\n"
     ]
    }
   ],
   "source": [
    "print(Counter(askubuntu_y_train))\n",
    "print(Counter(askubuntu_y_val))\n",
    "print(Counter(askubuntu_y_test))"
   ]
  },
  {
   "cell_type": "markdown",
   "metadata": {},
   "source": [
    "### Chatbot"
   ]
  },
  {
   "cell_type": "code",
   "execution_count": 164,
   "metadata": {
    "ExecuteTime": {
     "end_time": "2021-04-01T02:37:42.597777Z",
     "start_time": "2021-04-01T02:37:42.591235Z"
    }
   },
   "outputs": [
    {
     "name": "stdout",
     "output_type": "stream",
     "text": [
      "Number of training instances\t 80\n",
      "Number of validation instances\t 20\n",
      "Number of testing instances\t 106\n"
     ]
    }
   ],
   "source": [
    "print(\"Number of training instances\\t\", len(chatbot_X_train))\n",
    "print(\"Number of validation instances\\t\", len(chatbot_X_val))\n",
    "print(\"Number of testing instances\\t\", len(chatbot_X_test))"
   ]
  },
  {
   "cell_type": "code",
   "execution_count": 165,
   "metadata": {
    "ExecuteTime": {
     "end_time": "2021-04-01T02:37:43.889413Z",
     "start_time": "2021-04-01T02:37:43.881880Z"
    }
   },
   "outputs": [
    {
     "name": "stdout",
     "output_type": "stream",
     "text": [
      "Counter({1: 49, 0: 31})\n",
      "Counter({0: 12, 1: 8})\n",
      "Counter({1: 71, 0: 35})\n"
     ]
    }
   ],
   "source": [
    "print(Counter(chatbot_y_train))\n",
    "print(Counter(chatbot_y_val))\n",
    "print(Counter(chatbot_y_test))"
   ]
  },
  {
   "cell_type": "markdown",
   "metadata": {},
   "source": [
    "### webapps"
   ]
  },
  {
   "cell_type": "code",
   "execution_count": 166,
   "metadata": {
    "ExecuteTime": {
     "end_time": "2021-04-01T02:37:46.096285Z",
     "start_time": "2021-04-01T02:37:46.089612Z"
    }
   },
   "outputs": [
    {
     "name": "stdout",
     "output_type": "stream",
     "text": [
      "Number of training instances\t 24\n",
      "Number of validation instances\t 6\n",
      "Number of testing instances\t 59\n"
     ]
    }
   ],
   "source": [
    "print(\"Number of training instances\\t\", len(webapps_X_train))\n",
    "print(\"Number of validation instances\\t\", len(webapps_X_val))\n",
    "print(\"Number of testing instances\\t\", len(webapps_X_test))"
   ]
  },
  {
   "cell_type": "code",
   "execution_count": 167,
   "metadata": {
    "ExecuteTime": {
     "end_time": "2021-04-01T02:37:46.772852Z",
     "start_time": "2021-04-01T02:37:46.761186Z"
    }
   },
   "outputs": [
    {
     "name": "stdout",
     "output_type": "stream",
     "text": [
      "Counter({1: 7, 4: 4, 5: 3, 7: 3, 6: 2, 0: 2, 3: 2, 2: 1})\n",
      "Counter({5: 4, 4: 2})\n",
      "Counter({4: 16, 3: 14, 1: 10, 6: 6, 0: 6, 5: 4, 2: 3})\n"
     ]
    }
   ],
   "source": [
    "print(Counter(webapps_y_train))\n",
    "print(Counter(webapps_y_val))\n",
    "print(Counter(webapps_y_test))"
   ]
  },
  {
   "cell_type": "markdown",
   "metadata": {},
   "source": [
    "# BERT & Baseline Models"
   ]
  },
  {
   "cell_type": "code",
   "execution_count": 234,
   "metadata": {
    "ExecuteTime": {
     "end_time": "2021-04-01T17:18:44.726503Z",
     "start_time": "2021-04-01T17:18:38.411362Z"
    }
   },
   "outputs": [
    {
     "name": "stderr",
     "output_type": "stream",
     "text": [
      "All model checkpoint layers were used when initializing TFBertForSequenceClassification.\n",
      "\n",
      "Some layers of TFBertForSequenceClassification were not initialized from the model checkpoint at bert-base-uncased and are newly initialized: ['classifier']\n",
      "You should probably TRAIN this model on a down-stream task to be able to use it for predictions and inference.\n"
     ]
    }
   ],
   "source": [
    "tfhub_handle_encoder = \"https://tfhub.dev/tensorflow/bert_en_uncased_L-12_H-768_A-12/3\"\n",
    "tfhub_handle_preprocess = \"https://tfhub.dev/tensorflow/bert_en_uncased_preprocess/3\"\n",
    "\n",
    "# Load pre-trained model tokenizer (vocabulary)\n",
    "tokenizer = BertTokenizer.from_pretrained('bert-base-uncased')\n",
    "model = TFBertForSequenceClassification.from_pretrained('bert-base-uncased')"
   ]
  },
  {
   "cell_type": "code",
   "execution_count": 235,
   "metadata": {
    "ExecuteTime": {
     "end_time": "2021-04-01T17:20:14.144340Z",
     "start_time": "2021-04-01T17:20:14.024885Z"
    }
   },
   "outputs": [],
   "source": [
    "# Prepare training: Compile tf.keras model with optimizer, loss and learning rate schedule \n",
    "optimizer = tf.keras.optimizers.Adam(learning_rate=3e-5, epsilon=1e-08, clipnorm=1.0)\n",
    "loss = tf.keras.losses.SparseCategoricalCrossentropy(from_logits=True)\n",
    "metric = tf.keras.metrics.SparseCategoricalAccuracy('accuracy')\n",
    "model.compile(optimizer=optimizer, loss=loss, metrics=[metric])"
   ]
  },
  {
   "cell_type": "markdown",
   "metadata": {},
   "source": [
    "## ASkUbuntu"
   ]
  },
  {
   "cell_type": "code",
   "execution_count": 194,
   "metadata": {
    "ExecuteTime": {
     "end_time": "2021-04-01T04:18:15.779004Z",
     "start_time": "2021-04-01T04:18:15.746624Z"
    }
   },
   "outputs": [],
   "source": [
    "def build_classifier_model(array):\n",
    "    text_input = tf.keras.layers.Input(shape=(), dtype=tf.string, name='text')\n",
    "    preprocessing_layer = hub.KerasLayer(\"https://tfhub.dev/tensorflow/bert_en_uncased_preprocess/3\", name='preprocessing')\n",
    "    encoder_inputs = preprocessing_layer(text_input)\n",
    "    encoder = hub.KerasLayer(\"https://tfhub.dev/tensorflow/bert_en_uncased_L-12_H-768_A-12/3\", trainable=True, name='BERT_encoder')\n",
    "    outputs = encoder(encoder_inputs)\n",
    "    net = outputs['pooled_output']\n",
    "    net = tf.keras.layers.Dense(600, activation=tf.nn.relu)(net)\n",
    "    #net = tf.keras.layers.Dropout(0.1)(net)\n",
    "    net = tf.keras.layers.Dense(len(Counter(array)), activation=tf.nn.softmax, name='classifier')(net)\n",
    "    return tf.keras.Model(text_input, net)"
   ]
  },
  {
   "cell_type": "code",
   "execution_count": 195,
   "metadata": {
    "ExecuteTime": {
     "end_time": "2021-04-01T04:20:05.858556Z",
     "start_time": "2021-04-01T04:18:15.783253Z"
    }
   },
   "outputs": [],
   "source": [
    "ask_ubuntu_model = build_classifier_model(askubuntu_y_train)\n",
    "\n",
    "epochs = 5\n",
    "\n",
    "ask_ubuntu_model.compile(optimizer=\"adam\",\n",
    "                         loss=\"sparse_categorical_crossentropy\",\n",
    "                         metrics=[\"accuracy\"])"
   ]
  },
  {
   "cell_type": "code",
   "execution_count": 196,
   "metadata": {
    "ExecuteTime": {
     "end_time": "2021-04-01T04:20:05.921860Z",
     "start_time": "2021-04-01T04:20:05.867873Z"
    }
   },
   "outputs": [
    {
     "name": "stdout",
     "output_type": "stream",
     "text": [
      "Model: \"model_16\"\n",
      "__________________________________________________________________________________________________\n",
      "Layer (type)                    Output Shape         Param #     Connected to                     \n",
      "==================================================================================================\n",
      "text (InputLayer)               [(None,)]            0                                            \n",
      "__________________________________________________________________________________________________\n",
      "preprocessing (KerasLayer)      {'input_mask': (None 0           text[0][0]                       \n",
      "__________________________________________________________________________________________________\n",
      "BERT_encoder (KerasLayer)       {'default': (None, 7 109482241   preprocessing[0][0]              \n",
      "                                                                 preprocessing[0][1]              \n",
      "                                                                 preprocessing[0][2]              \n",
      "__________________________________________________________________________________________________\n",
      "dense_10 (Dense)                (None, 600)          461400      BERT_encoder[0][13]              \n",
      "__________________________________________________________________________________________________\n",
      "dropout_15 (Dropout)            (None, 600)          0           dense_10[0][0]                   \n",
      "__________________________________________________________________________________________________\n",
      "classifier (Dense)              (None, 5)            3005        dropout_15[0][0]                 \n",
      "==================================================================================================\n",
      "Total params: 109,946,646\n",
      "Trainable params: 109,946,645\n",
      "Non-trainable params: 1\n",
      "__________________________________________________________________________________________________\n"
     ]
    }
   ],
   "source": [
    "ask_ubuntu_model.summary()"
   ]
  },
  {
   "cell_type": "code",
   "execution_count": 197,
   "metadata": {
    "ExecuteTime": {
     "end_time": "2021-04-01T04:23:55.996581Z",
     "start_time": "2021-04-01T04:20:05.928777Z"
    }
   },
   "outputs": [
    {
     "name": "stdout",
     "output_type": "stream",
     "text": [
      "Training baseline model AskUbuntu\n",
      "Epoch 1/5\n",
      "2/2 [==============================] - 69s 13s/step - loss: 1.7147 - accuracy: 0.3368 - val_loss: 2.5083 - val_accuracy: 0.0909\n",
      "Epoch 2/5\n",
      "2/2 [==============================] - 40s 10s/step - loss: 2.1502 - accuracy: 0.2421 - val_loss: 6.5863 - val_accuracy: 0.0909\n",
      "Epoch 3/5\n",
      "2/2 [==============================] - 41s 11s/step - loss: 5.0730 - accuracy: 0.2158 - val_loss: 1.5117 - val_accuracy: 0.1818\n",
      "Epoch 4/5\n",
      "2/2 [==============================] - 42s 9s/step - loss: 1.9575 - accuracy: 0.2054 - val_loss: 1.7609 - val_accuracy: 0.4545\n",
      "Epoch 5/5\n",
      "2/2 [==============================] - 37s 9s/step - loss: 1.9292 - accuracy: 0.2946 - val_loss: 1.3069 - val_accuracy: 0.4545\n"
     ]
    }
   ],
   "source": [
    "print('Training baseline model AskUbuntu')\n",
    "history_askubuntu = ask_ubuntu_model.fit(x = askubuntu_X_train, y = askubuntu_y_train,\n",
    "                               validation_data=(askubuntu_X_val, askubuntu_y_val),\n",
    "                               epochs=epochs)"
   ]
  },
  {
   "cell_type": "code",
   "execution_count": 198,
   "metadata": {
    "ExecuteTime": {
     "end_time": "2021-04-01T04:24:18.148415Z",
     "start_time": "2021-04-01T04:23:56.020423Z"
    }
   },
   "outputs": [
    {
     "name": "stdout",
     "output_type": "stream",
     "text": [
      "1/1 [==============================] - 22s 22s/step - loss: 1.7397 - accuracy: 0.3670\n",
      "Loss: 1.739715576171875\n",
      "Accuracy: 0.3669724762439728\n"
     ]
    }
   ],
   "source": [
    "loss, accuracy = ask_ubuntu_model.evaluate(askubuntu_X_test, askubuntu_y_test, batch_size=128)\n",
    "\n",
    "print(f'Loss: {loss}')\n",
    "print(f'Accuracy: {accuracy}')"
   ]
  },
  {
   "cell_type": "code",
   "execution_count": 229,
   "metadata": {
    "ExecuteTime": {
     "end_time": "2021-04-01T16:57:22.225930Z",
     "start_time": "2021-04-01T16:56:22.660655Z"
    }
   },
   "outputs": [
    {
     "name": "stderr",
     "output_type": "stream",
     "text": [
      "WARNING:absl:Found untraced functions such as restored_function_body, restored_function_body, restored_function_body, restored_function_body, restored_function_body while saving (showing 5 of 910). These functions will not be directly callable after loading.\n",
      "WARNING:absl:Found untraced functions such as restored_function_body, restored_function_body, restored_function_body, restored_function_body, restored_function_body while saving (showing 5 of 910). These functions will not be directly callable after loading.\n"
     ]
    }
   ],
   "source": [
    "dataset_name = 'askubuntu_baseline'\n",
    "saved_model_path = 'baselines/{}_bert'.format(dataset_name.replace('/', '_'))\n",
    "\n",
    "ask_ubuntu_model.save(saved_model_path, include_optimizer=False)"
   ]
  },
  {
   "cell_type": "markdown",
   "metadata": {},
   "source": [
    "## ChatBot"
   ]
  },
  {
   "cell_type": "code",
   "execution_count": 190,
   "metadata": {
    "ExecuteTime": {
     "end_time": "2021-04-01T04:10:59.434856Z",
     "start_time": "2021-04-01T04:10:34.189499Z"
    }
   },
   "outputs": [],
   "source": [
    "chatbot_model = build_classifier_model(chatbot_y_train)\n",
    "\n",
    "loss = tf.keras.losses.BinaryCrossentropy(from_logits=False)\n",
    "metrics = tf.metrics.BinaryAccuracy()\n",
    "\n",
    "epochs = 5\n",
    "\n",
    "chatbot_model.compile(optimizer=\"adam\",\n",
    "                         loss=loss,\n",
    "                         metrics=metrics)"
   ]
  },
  {
   "cell_type": "code",
   "execution_count": 191,
   "metadata": {
    "ExecuteTime": {
     "end_time": "2021-04-01T04:10:59.472188Z",
     "start_time": "2021-04-01T04:10:59.441663Z"
    }
   },
   "outputs": [
    {
     "name": "stdout",
     "output_type": "stream",
     "text": [
      "Model: \"model_15\"\n",
      "__________________________________________________________________________________________________\n",
      "Layer (type)                    Output Shape         Param #     Connected to                     \n",
      "==================================================================================================\n",
      "text (InputLayer)               [(None,)]            0                                            \n",
      "__________________________________________________________________________________________________\n",
      "preprocessing (KerasLayer)      {'input_type_ids': ( 0           text[0][0]                       \n",
      "__________________________________________________________________________________________________\n",
      "BERT_encoder (KerasLayer)       {'encoder_outputs':  109482241   preprocessing[0][0]              \n",
      "                                                                 preprocessing[0][1]              \n",
      "                                                                 preprocessing[0][2]              \n",
      "__________________________________________________________________________________________________\n",
      "dense_9 (Dense)                 (None, 600)          461400      BERT_encoder[0][13]              \n",
      "__________________________________________________________________________________________________\n",
      "dropout_14 (Dropout)            (None, 600)          0           dense_9[0][0]                    \n",
      "__________________________________________________________________________________________________\n",
      "classifier (Dense)              (None, 2)            1202        dropout_14[0][0]                 \n",
      "==================================================================================================\n",
      "Total params: 109,944,843\n",
      "Trainable params: 109,944,842\n",
      "Non-trainable params: 1\n",
      "__________________________________________________________________________________________________\n"
     ]
    }
   ],
   "source": [
    "chatbot_model.summary()"
   ]
  },
  {
   "cell_type": "code",
   "execution_count": 192,
   "metadata": {
    "ExecuteTime": {
     "end_time": "2021-04-01T04:17:54.149746Z",
     "start_time": "2021-04-01T04:10:59.487631Z"
    }
   },
   "outputs": [
    {
     "name": "stdout",
     "output_type": "stream",
     "text": [
      "Training baseline model Chatbot\n",
      "Epoch 1/5\n",
      "3/3 [==============================] - 104s 25s/step - loss: 1.1485 - binary_accuracy: 0.5000 - val_loss: 1.2647 - val_binary_accuracy: 0.5000\n",
      "Epoch 2/5\n",
      "3/3 [==============================] - 86s 27s/step - loss: 1.2219 - binary_accuracy: 0.5000 - val_loss: 1.1210 - val_binary_accuracy: 0.5000\n",
      "Epoch 3/5\n",
      "3/3 [==============================] - 79s 24s/step - loss: 1.1943 - binary_accuracy: 0.5000 - val_loss: 1.8351 - val_binary_accuracy: 0.5000\n",
      "Epoch 4/5\n",
      "3/3 [==============================] - 74s 22s/step - loss: 1.4185 - binary_accuracy: 0.5000 - val_loss: 0.7854 - val_binary_accuracy: 0.5000\n",
      "Epoch 5/5\n",
      "3/3 [==============================] - 72s 22s/step - loss: 0.9570 - binary_accuracy: 0.5000 - val_loss: 0.7217 - val_binary_accuracy: 0.5000\n"
     ]
    }
   ],
   "source": [
    "print('Training baseline model Chatbot')\n",
    "history_chatbot = chatbot_model.fit(x = chatbot_X_train, y = chatbot_y_train,\n",
    "                               validation_data=(chatbot_X_val, chatbot_y_val),\n",
    "                               epochs=epochs)"
   ]
  },
  {
   "cell_type": "code",
   "execution_count": 193,
   "metadata": {
    "ExecuteTime": {
     "end_time": "2021-04-01T04:18:15.742142Z",
     "start_time": "2021-04-01T04:17:54.171092Z"
    }
   },
   "outputs": [
    {
     "name": "stdout",
     "output_type": "stream",
     "text": [
      "1/1 [==============================] - 21s 21s/step - loss: 0.7217 - binary_accuracy: 0.5000\n",
      "Loss: 0.721656084060669\n",
      "Accuracy: 0.5\n"
     ]
    }
   ],
   "source": [
    "loss, accuracy = chatbot_model.evaluate(chatbot_X_test, chatbot_y_test, batch_size=128)\n",
    "\n",
    "print(f'Loss: {loss}')\n",
    "print(f'Accuracy: {accuracy}')"
   ]
  },
  {
   "cell_type": "code",
   "execution_count": 230,
   "metadata": {
    "ExecuteTime": {
     "end_time": "2021-04-01T16:59:25.491731Z",
     "start_time": "2021-04-01T16:57:22.244106Z"
    }
   },
   "outputs": [
    {
     "name": "stderr",
     "output_type": "stream",
     "text": [
      "WARNING:absl:Found untraced functions such as restored_function_body, restored_function_body, restored_function_body, restored_function_body, restored_function_body while saving (showing 5 of 910). These functions will not be directly callable after loading.\n",
      "WARNING:absl:Found untraced functions such as restored_function_body, restored_function_body, restored_function_body, restored_function_body, restored_function_body while saving (showing 5 of 910). These functions will not be directly callable after loading.\n"
     ]
    }
   ],
   "source": [
    "dataset_name = 'chatbot_baseline'\n",
    "saved_model_path = 'baselines/{}_bert'.format(dataset_name.replace('/', '_'))\n",
    "\n",
    "chatbot_model.save(saved_model_path, include_optimizer=False)"
   ]
  },
  {
   "cell_type": "markdown",
   "metadata": {},
   "source": [
    "## WebApps"
   ]
  },
  {
   "cell_type": "code",
   "execution_count": 184,
   "metadata": {
    "ExecuteTime": {
     "end_time": "2021-04-01T04:02:59.782291Z",
     "start_time": "2021-04-01T04:02:35.556324Z"
    }
   },
   "outputs": [],
   "source": [
    "webapps_model = build_classifier_model(webapps_y_train)\n",
    "\n",
    "#loss = tf.keras.losses.CategoricalCrossentropy(from_logits=False, reduction=\"auto\", name=\"sparse_categorical_crossentropy\")\n",
    "#metrics = tf.metrics.Accuracy()\n",
    "\n",
    "epochs = 5\n",
    "\n",
    "webapps_model.compile(optimizer=\"adam\",\n",
    "                         loss=\"sparse_categorical_crossentropy\",\n",
    "                         metrics=[\"accuracy\"])"
   ]
  },
  {
   "cell_type": "code",
   "execution_count": 183,
   "metadata": {
    "ExecuteTime": {
     "end_time": "2021-04-01T04:10:59.472188Z",
     "start_time": "2021-04-01T04:10:59.441663Z"
    }
   },
   "outputs": [
    {
     "name": "stdout",
     "output_type": "stream",
     "text": [
      "Model: \"model_12\"\n",
      "__________________________________________________________________________________________________\n",
      "Layer (type)                    Output Shape         Param #     Connected to                     \n",
      "==================================================================================================\n",
      "text (InputLayer)               [(None,)]            0                                            \n",
      "__________________________________________________________________________________________________\n",
      "preprocessing (KerasLayer)      {'input_mask': (None 0           text[0][0]                       \n",
      "__________________________________________________________________________________________________\n",
      "BERT_encoder (KerasLayer)       {'sequence_output':  109482241   preprocessing[0][0]              \n",
      "                                                                 preprocessing[0][1]              \n",
      "                                                                 preprocessing[0][2]              \n",
      "__________________________________________________________________________________________________\n",
      "dense_6 (Dense)                 (None, 600)          461400      BERT_encoder[0][13]              \n",
      "__________________________________________________________________________________________________\n",
      "dropout_11 (Dropout)            (None, 600)          0           dense_6[0][0]                    \n",
      "__________________________________________________________________________________________________\n",
      "classifier (Dense)              (None, 8)            4808        dropout_11[0][0]                 \n",
      "==================================================================================================\n",
      "Total params: 109,948,449\n",
      "Trainable params: 109,948,448\n",
      "Non-trainable params: 1\n",
      "__________________________________________________________________________________________________\n"
     ]
    }
   ],
   "source": [
    "webapps_model.summary()"
   ]
  },
  {
   "cell_type": "code",
   "execution_count": 185,
   "metadata": {
    "ExecuteTime": {
     "end_time": "2021-04-01T04:07:05.872043Z",
     "start_time": "2021-04-01T04:04:43.961082Z"
    }
   },
   "outputs": [
    {
     "name": "stdout",
     "output_type": "stream",
     "text": [
      "Training baseline model WebApps\n",
      "Epoch 1/5\n",
      "1/1 [==============================] - 46s 46s/step - loss: 2.2476 - accuracy: 0.1667 - val_loss: 2.6551 - val_accuracy: 0.3333\n",
      "Epoch 2/5\n",
      "1/1 [==============================] - 23s 23s/step - loss: 2.1265 - accuracy: 0.2083 - val_loss: 4.7988 - val_accuracy: 0.0000e+00\n",
      "Epoch 3/5\n",
      "1/1 [==============================] - 25s 25s/step - loss: 3.5518 - accuracy: 0.2917 - val_loss: 4.4585 - val_accuracy: 0.0000e+00\n",
      "Epoch 4/5\n",
      "1/1 [==============================] - 23s 23s/step - loss: 3.3950 - accuracy: 0.1667 - val_loss: 5.9871 - val_accuracy: 0.0000e+00\n",
      "Epoch 5/5\n",
      "1/1 [==============================] - 25s 25s/step - loss: 4.2112 - accuracy: 0.2917 - val_loss: 3.3392 - val_accuracy: 0.3333\n"
     ]
    }
   ],
   "source": [
    "print('Training baseline model WebApps')\n",
    "history_webapps = webapps_model.fit(x = webapps_X_train, y = webapps_y_train,\n",
    "                               validation_data=(webapps_X_val, webapps_y_val),\n",
    "                               epochs=epochs)"
   ]
  },
  {
   "cell_type": "code",
   "execution_count": 186,
   "metadata": {
    "ExecuteTime": {
     "end_time": "2021-04-01T04:08:32.270589Z",
     "start_time": "2021-04-01T04:08:20.552545Z"
    }
   },
   "outputs": [
    {
     "name": "stdout",
     "output_type": "stream",
     "text": [
      "1/1 [==============================] - 12s 12s/step - loss: 3.0455 - accuracy: 0.2712\n",
      "Loss: 3.0454890727996826\n",
      "Accuracy: 0.2711864411830902\n"
     ]
    }
   ],
   "source": [
    "loss, accuracy = webapps_model.evaluate(webapps_X_test, webapps_y_test, batch_size=128)\n",
    "\n",
    "print(f'Loss: {loss}')\n",
    "print(f'Accuracy: {accuracy}')"
   ]
  },
  {
   "cell_type": "code",
   "execution_count": 231,
   "metadata": {
    "ExecuteTime": {
     "end_time": "2021-04-01T17:00:43.698762Z",
     "start_time": "2021-04-01T16:59:25.641721Z"
    }
   },
   "outputs": [
    {
     "name": "stderr",
     "output_type": "stream",
     "text": [
      "WARNING:absl:Found untraced functions such as restored_function_body, restored_function_body, restored_function_body, restored_function_body, restored_function_body while saving (showing 5 of 910). These functions will not be directly callable after loading.\n",
      "WARNING:absl:Found untraced functions such as restored_function_body, restored_function_body, restored_function_body, restored_function_body, restored_function_body while saving (showing 5 of 910). These functions will not be directly callable after loading.\n"
     ]
    }
   ],
   "source": [
    "dataset_name = 'webapps_baseline'\n",
    "saved_model_path = 'baselines/{}_bert'.format(dataset_name.replace('/', '_'))\n",
    "\n",
    "webapps_model.save(saved_model_path, include_optimizer=False)"
   ]
  },
  {
   "cell_type": "code",
   "execution_count": null,
   "metadata": {},
   "outputs": [],
   "source": []
  }
 ],
 "metadata": {
  "hide_input": false,
  "kernelspec": {
   "display_name": "Python 3",
   "language": "python",
   "name": "python3"
  },
  "language_info": {
   "codemirror_mode": {
    "name": "ipython",
    "version": 3
   },
   "file_extension": ".py",
   "mimetype": "text/x-python",
   "name": "python",
   "nbconvert_exporter": "python",
   "pygments_lexer": "ipython3",
   "version": "3.8.5"
  },
  "latex_envs": {
   "LaTeX_envs_menu_present": true,
   "autoclose": false,
   "autocomplete": true,
   "bibliofile": "biblio.bib",
   "cite_by": "apalike",
   "current_citInitial": 1,
   "eqLabelWithNumbers": true,
   "eqNumInitial": 1,
   "hotkeys": {
    "equation": "Ctrl-E",
    "itemize": "Ctrl-I"
   },
   "labels_anchors": false,
   "latex_user_defs": false,
   "report_style_numbering": false,
   "user_envs_cfg": false
  },
  "toc": {
   "base_numbering": 1,
   "nav_menu": {},
   "number_sections": true,
   "sideBar": true,
   "skip_h1_title": false,
   "title_cell": "Table of Contents",
   "title_sidebar": "Contents",
   "toc_cell": false,
   "toc_position": {},
   "toc_section_display": true,
   "toc_window_display": false
  }
 },
 "nbformat": 4,
 "nbformat_minor": 4
}
