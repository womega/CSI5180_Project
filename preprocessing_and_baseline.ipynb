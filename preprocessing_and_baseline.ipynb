{
 "cells": [
  {
   "cell_type": "markdown",
   "metadata": {},
   "source": [
    "# Imports"
   ]
  },
  {
   "cell_type": "code",
   "execution_count": 1,
   "metadata": {
    "ExecuteTime": {
     "end_time": "2021-04-03T04:12:05.900665Z",
     "start_time": "2021-04-03T04:11:52.734004Z"
    }
   },
   "outputs": [],
   "source": [
    "import os\n",
    "import shutil\n",
    "\n",
    "import tensorflow as tf\n",
    "import tensorflow_hub as hub\n",
    "import tensorflow_text as text\n",
    "#from official.nlp import optimization  # to create AdamW optmizer\n",
    "import torch\n",
    "from transformers import BertTokenizer, BertModel, TFBertForSequenceClassification\n",
    "\n",
    "import codecs\n",
    "import numpy as np\n",
    "import seaborn as sns\n",
    "import pandas as pd\n",
    "import json as js\n",
    "\n",
    "import matplotlib.pyplot as plt\n",
    "\n",
    "tf.get_logger().setLevel('ERROR')\n",
    "from tqdm import tqdm\n",
    "from collections import Counter\n",
    "from sklearn.preprocessing import LabelEncoder, StandardScaler\n",
    "from sklearn.model_selection import train_test_split"
   ]
  },
  {
   "cell_type": "markdown",
   "metadata": {},
   "source": [
    "# Opening files & Conversion"
   ]
  },
  {
   "cell_type": "markdown",
   "metadata": {},
   "source": [
    "## Opening"
   ]
  },
  {
   "cell_type": "code",
   "execution_count": 2,
   "metadata": {
    "ExecuteTime": {
     "end_time": "2021-04-03T04:12:05.923904Z",
     "start_time": "2021-04-03T04:12:05.905094Z"
    }
   },
   "outputs": [],
   "source": [
    "with open('dataset/AskUbuntuCorpus.json') as f:\n",
    "    askubuntu = js.load(f)\n",
    "\n",
    "with open('dataset/ChatbotCorpus.json') as f:\n",
    "    chatbot = js.load(f)\n",
    "\n",
    "with open('dataset/WebApplicationsCorpus.json') as f:\n",
    "    webapps = js.load(f)"
   ]
  },
  {
   "cell_type": "markdown",
   "metadata": {},
   "source": [
    "## Conversion & split"
   ]
  },
  {
   "cell_type": "code",
   "execution_count": 3,
   "metadata": {
    "ExecuteTime": {
     "end_time": "2021-04-03T04:12:05.978667Z",
     "start_time": "2021-04-03T04:12:05.928469Z"
    }
   },
   "outputs": [
    {
     "name": "stdout",
     "output_type": "stream",
     "text": [
      "\n",
      "AskUbuntu Labels\n",
      "----------------\n",
      "\n",
      "Original Labels\n",
      "-------------------------\n",
      "Counter({'Software Recommendation': 57, 'Make Update': 47, 'Shutdown Computer': 27, 'Setup Printer': 23, 'None': 8})\n",
      "\n",
      "Encoded Labels\n",
      "------------------------\n",
      "Counter({4: 57, 0: 47, 3: 27, 2: 23, 1: 8})\n",
      "\n",
      "----------------\n",
      "\n",
      "\n",
      "Chatbot Labels\n",
      "--------------\n",
      "\n",
      "Original Labels\n",
      "-------------------------\n",
      "Counter({'FindConnection': 128, 'DepartureTime': 78})\n",
      "\n",
      "Encoded Labels\n",
      "------------------------\n",
      "Counter({1: 128, 0: 78})\n",
      "\n",
      "----------------\n",
      "\n",
      "\n",
      "WebApps Labels\n",
      "--------------\n",
      "\n",
      "Original Labels\n",
      "-------------------------\n",
      "Counter({'Find Alternative': 23, 'Filter Spam': 20, 'Delete Account': 17, 'Sync Accounts': 9, 'Change Password': 8, 'None': 6, 'Export Data': 5, 'Download Video': 1})\n",
      "\n",
      "Encoded Labels\n",
      "------------------------\n",
      "Counter({5: 23, 4: 20, 1: 17, 7: 9, 0: 8, 6: 6, 3: 5, 2: 1})\n"
     ]
    }
   ],
   "source": [
    "def create_train_test(ds):\n",
    "    new_dict = {}\n",
    "    for k,v in [(key,d[key]) for d in ds['sentences'] for key in d]:\n",
    "        if k not in new_dict: \n",
    "            new_dict[k]=[v]\n",
    "        else: new_dict[k].append(v)\n",
    "            \n",
    "    # remove unnecessary keys   \n",
    "    \n",
    "    for a in ['author', 'url', 'entities', 'answer']:\n",
    "        new_dict.pop(a, '')\n",
    "        \n",
    "    new_df = pd.DataFrame(new_dict)\n",
    "    \n",
    "    print(\"Original Labels\")\n",
    "    print(\"-------------------------\")\n",
    "    labels = new_df.intent\n",
    "    print(Counter(labels))\n",
    "    le = LabelEncoder()\n",
    "    l = le.fit_transform(labels)\n",
    "    print(\"\\nEncoded Labels\")\n",
    "    print(\"------------------------\")\n",
    "    print(Counter(l))\n",
    "    \n",
    "    new_df['intent'] = l\n",
    "    \n",
    "    #### Splitting train and test\n",
    "    \n",
    "    train = new_df.loc[new_df['training'] == True].reset_index(drop = True).drop('training', axis=1)\n",
    "    \n",
    "    X = train.text\n",
    "    y = train.intent\n",
    "    \n",
    "#     ### Label encoding\n",
    "#     print(\"Original Labels Train/Val\")\n",
    "#     print(\"-------------------------\")\n",
    "#     print(Counter(y))\n",
    "#     le = LabelEncoder()\n",
    "#     l = le.fit_transform(y)\n",
    "#     print(\"\\nEncoded Labels Train/Val\")\n",
    "#     print(\"------------------------\")\n",
    "#     print(Counter(l))\n",
    "    \n",
    "    X_train, X_val, y_train, y_val = train_test_split(X, y, test_size=0.2, random_state=1)\n",
    "    \n",
    "    test = new_df.loc[new_df['training'] != True].reset_index(drop = True).drop('training', axis=1)\n",
    "    \n",
    "    X_test = test.text\n",
    "    y_test = test.intent\n",
    "    \n",
    "#     ### Label encoding\n",
    "#     print(\"\\nOriginal Labels Test\")\n",
    "#     print(\"--------------------\")\n",
    "#     print(Counter(y_test))\n",
    "#     le = LabelEncoder()\n",
    "#     y_test = le.fit_transform(y_test)\n",
    "#     print(\"\\nEncoded Labels Test\")\n",
    "#     print(\"-------------------\")\n",
    "#     print(Counter(y_test))\n",
    "    \n",
    "    #askubuntu_ds = \n",
    "    #askubuntu_df = \n",
    "\n",
    "    \n",
    "    return X_train.to_numpy(), X_test.to_numpy(), X_val.to_numpy(), y_train, y_test, y_val\n",
    "\n",
    "##### askubuntu\n",
    "print(\"\\nAskUbuntu Labels\")\n",
    "print(\"----------------\\n\")\n",
    "askubuntu_X_train, askubuntu_X_test, askubuntu_X_val, askubuntu_y_train, askubuntu_y_test, askubuntu_y_val = create_train_test(askubuntu)\n",
    "\n",
    "##### chatbot\n",
    "print(\"\\n----------------\\n\")\n",
    "print(\"\\nChatbot Labels\")\n",
    "print(\"--------------\\n\")\n",
    "chatbot_X_train, chatbot_X_test, chatbot_X_val, chatbot_y_train, chatbot_y_test, chatbot_y_val = create_train_test(chatbot)\n",
    "\n",
    "##### webapps\n",
    "print(\"\\n----------------\\n\")\n",
    "print(\"\\nWebApps Labels\")\n",
    "print(\"--------------\\n\")\n",
    "webapps_X_train, webapps_X_test, webapps_X_val, webapps_y_train, webapps_y_test, webapps_y_val = create_train_test(webapps)\n",
    "\n",
    "###### create .csv files\n",
    "\n",
    "# pd.DataFrame({\"text\":askubuntu_X_train,\"intent\": askubuntu_y_train}).to_csv('dataset/askubuntu_train.csv', index=False,header=True)\n",
    "# pd.DataFrame({\"text\":askubuntu_X_val,\"intent\": askubuntu_y_val}).to_csv('dataset/askubuntu_val.csv', index=False,header=True)\n",
    "# pd.DataFrame({\"text\":askubuntu_X_test,\"intent\": askubuntu_y_test}).to_csv('dataset/askubuntu_test.csv', index=False,header=True)\n",
    "# pd.DataFrame({\"text\":chatbot_X_train,\"intent\": chatbot_y_train}).to_csv('dataset/chatbot_train.csv', index=False,header=True)\n",
    "# pd.DataFrame({\"text\":chatbot_X_val,\"intent\": chatbot_y_val}).to_csv('dataset/chatbot_val.csv', index=False,header=True)\n",
    "# pd.DataFrame({\"text\":chatbot_X_test,\"intent\": chatbot_y_test}).to_csv('dataset/chatbot_test.csv', index=False,header=True)\n",
    "# pd.DataFrame({\"text\":webapps_X_train,\"intent\": webapps_y_train}).to_csv('dataset/webapps_train.csv', index=False,header=True)\n",
    "# pd.DataFrame({\"text\":webapps_X_val,\"intent\": webapps_y_val}).to_csv('dataset/webapps_val.csv', index=False,header=True)\n",
    "# pd.DataFrame({\"text\":webapps_X_test,\"intent\": webapps_y_test}).to_csv('dataset/webapps_test.csv', index=False,header=True)"
   ]
  },
  {
   "cell_type": "markdown",
   "metadata": {},
   "source": [
    "### AskUbuntu"
   ]
  },
  {
   "cell_type": "code",
   "execution_count": 4,
   "metadata": {
    "ExecuteTime": {
     "end_time": "2021-04-03T04:12:05.988054Z",
     "start_time": "2021-04-03T04:12:05.982998Z"
    }
   },
   "outputs": [
    {
     "name": "stdout",
     "output_type": "stream",
     "text": [
      "Number of training instances\t 42\n",
      "Number of validation instances\t 11\n",
      "Number of testing instances\t 109\n"
     ]
    }
   ],
   "source": [
    "print(\"Number of training instances\\t\", len(askubuntu_X_train))\n",
    "print(\"Number of validation instances\\t\", len(askubuntu_X_val))\n",
    "print(\"Number of testing instances\\t\", len(askubuntu_X_test))"
   ]
  },
  {
   "cell_type": "code",
   "execution_count": 5,
   "metadata": {
    "ExecuteTime": {
     "end_time": "2021-04-03T04:12:05.996710Z",
     "start_time": "2021-04-03T04:12:05.990679Z"
    }
   },
   "outputs": [
    {
     "name": "stdout",
     "output_type": "stream",
     "text": [
      "Counter({4: 12, 3: 10, 2: 9, 0: 8, 1: 3})\n",
      "Counter({4: 5, 3: 3, 0: 2, 2: 1})\n",
      "Counter({4: 40, 0: 37, 3: 14, 2: 13, 1: 5})\n"
     ]
    }
   ],
   "source": [
    "print(Counter(askubuntu_y_train))\n",
    "print(Counter(askubuntu_y_val))\n",
    "print(Counter(askubuntu_y_test))"
   ]
  },
  {
   "cell_type": "markdown",
   "metadata": {},
   "source": [
    "### Chatbot"
   ]
  },
  {
   "cell_type": "code",
   "execution_count": 6,
   "metadata": {
    "ExecuteTime": {
     "end_time": "2021-04-03T04:12:06.006385Z",
     "start_time": "2021-04-03T04:12:05.999220Z"
    }
   },
   "outputs": [
    {
     "name": "stdout",
     "output_type": "stream",
     "text": [
      "Number of training instances\t 80\n",
      "Number of validation instances\t 20\n",
      "Number of testing instances\t 106\n"
     ]
    }
   ],
   "source": [
    "print(\"Number of training instances\\t\", len(chatbot_X_train))\n",
    "print(\"Number of validation instances\\t\", len(chatbot_X_val))\n",
    "print(\"Number of testing instances\\t\", len(chatbot_X_test))"
   ]
  },
  {
   "cell_type": "code",
   "execution_count": 7,
   "metadata": {
    "ExecuteTime": {
     "end_time": "2021-04-03T04:12:06.023509Z",
     "start_time": "2021-04-03T04:12:06.012970Z"
    }
   },
   "outputs": [
    {
     "name": "stdout",
     "output_type": "stream",
     "text": [
      "Counter({1: 49, 0: 31})\n",
      "Counter({0: 12, 1: 8})\n",
      "Counter({1: 71, 0: 35})\n"
     ]
    }
   ],
   "source": [
    "print(Counter(chatbot_y_train))\n",
    "print(Counter(chatbot_y_val))\n",
    "print(Counter(chatbot_y_test))"
   ]
  },
  {
   "cell_type": "markdown",
   "metadata": {},
   "source": [
    "### webapps"
   ]
  },
  {
   "cell_type": "code",
   "execution_count": 8,
   "metadata": {
    "ExecuteTime": {
     "end_time": "2021-04-03T04:12:06.054059Z",
     "start_time": "2021-04-03T04:12:06.042711Z"
    }
   },
   "outputs": [
    {
     "name": "stdout",
     "output_type": "stream",
     "text": [
      "Number of training instances\t 24\n",
      "Number of validation instances\t 6\n",
      "Number of testing instances\t 59\n"
     ]
    }
   ],
   "source": [
    "print(\"Number of training instances\\t\", len(webapps_X_train))\n",
    "print(\"Number of validation instances\\t\", len(webapps_X_val))\n",
    "print(\"Number of testing instances\\t\", len(webapps_X_test))"
   ]
  },
  {
   "cell_type": "code",
   "execution_count": 9,
   "metadata": {
    "ExecuteTime": {
     "end_time": "2021-04-03T04:12:06.066119Z",
     "start_time": "2021-04-03T04:12:06.058762Z"
    }
   },
   "outputs": [
    {
     "name": "stdout",
     "output_type": "stream",
     "text": [
      "Number of training instances\t Counter({1: 7, 4: 4, 5: 3, 7: 3, 6: 2, 0: 2, 3: 2, 2: 1})\n",
      "Number of validation instances\t Counter({5: 4, 4: 2})\n",
      "Number of testing instances\t Counter({5: 16, 4: 14, 1: 10, 7: 6, 0: 6, 6: 4, 3: 3})\n"
     ]
    }
   ],
   "source": [
    "print(\"Number of training instances\\t\", Counter(webapps_y_train))\n",
    "print(\"Number of validation instances\\t\", Counter(webapps_y_val))\n",
    "print(\"Number of testing instances\\t\", Counter(webapps_y_test))"
   ]
  },
  {
   "cell_type": "code",
   "execution_count": 11,
   "metadata": {
    "ExecuteTime": {
     "end_time": "2021-04-03T04:12:06.086763Z",
     "start_time": "2021-04-03T04:12:06.080202Z"
    }
   },
   "outputs": [
    {
     "name": "stdout",
     "output_type": "stream",
     "text": [
      "Counter({1: 7, 4: 4, 5: 3, 7: 3, 6: 2, 0: 2, 3: 2, 2: 1})\n",
      "Counter({5: 4, 4: 2})\n",
      "Counter({5: 16, 4: 14, 1: 10, 7: 6, 0: 6, 6: 4, 3: 3})\n"
     ]
    }
   ],
   "source": [
    "print(Counter(webapps_y_train))\n",
    "print(Counter(webapps_y_val))\n",
    "print(Counter(webapps_y_test))"
   ]
  },
  {
   "cell_type": "markdown",
   "metadata": {},
   "source": [
    "# BERT & Baseline Models"
   ]
  },
  {
   "cell_type": "code",
   "execution_count": 12,
   "metadata": {
    "ExecuteTime": {
     "end_time": "2021-04-03T04:12:11.597607Z",
     "start_time": "2021-04-03T04:12:06.091800Z"
    }
   },
   "outputs": [
    {
     "name": "stderr",
     "output_type": "stream",
     "text": [
      "All model checkpoint layers were used when initializing TFBertForSequenceClassification.\n",
      "\n",
      "Some layers of TFBertForSequenceClassification were not initialized from the model checkpoint at bert-base-uncased and are newly initialized: ['classifier']\n",
      "You should probably TRAIN this model on a down-stream task to be able to use it for predictions and inference.\n"
     ]
    }
   ],
   "source": [
    "tfhub_handle_encoder = \"https://tfhub.dev/tensorflow/bert_en_uncased_L-12_H-768_A-12/3\"\n",
    "tfhub_handle_preprocess = \"https://tfhub.dev/tensorflow/bert_en_uncased_preprocess/3\"\n",
    "\n",
    "# Load pre-trained model tokenizer (vocabulary)\n",
    "tokenizer = BertTokenizer.from_pretrained('bert-base-uncased')\n",
    "model = TFBertForSequenceClassification.from_pretrained('bert-base-uncased')"
   ]
  },
  {
   "cell_type": "code",
   "execution_count": 13,
   "metadata": {
    "ExecuteTime": {
     "end_time": "2021-04-03T04:12:11.625615Z",
     "start_time": "2021-04-03T04:12:11.600254Z"
    }
   },
   "outputs": [],
   "source": [
    "# Prepare training: Compile tf.keras model with optimizer, loss and learning rate schedule \n",
    "optimizer = tf.keras.optimizers.Adam(learning_rate=3e-5, epsilon=1e-08, clipnorm=1.0)\n",
    "loss = tf.keras.losses.SparseCategoricalCrossentropy(from_logits=True)\n",
    "metric = tf.keras.metrics.SparseCategoricalAccuracy('accuracy')\n",
    "model.compile(optimizer=optimizer, loss=loss, metrics=[metric])"
   ]
  },
  {
   "cell_type": "markdown",
   "metadata": {},
   "source": [
    "## ASkUbuntu"
   ]
  },
  {
   "cell_type": "code",
   "execution_count": 14,
   "metadata": {
    "ExecuteTime": {
     "end_time": "2021-04-03T04:12:11.663859Z",
     "start_time": "2021-04-03T04:12:11.637096Z"
    }
   },
   "outputs": [],
   "source": [
    "def build_classifier_model(array):\n",
    "    text_input = tf.keras.layers.Input(shape=(), dtype=tf.string, name='text')\n",
    "    preprocessing_layer = hub.KerasLayer(\"https://tfhub.dev/tensorflow/bert_en_uncased_preprocess/3\", name='preprocessing')\n",
    "    encoder_inputs = preprocessing_layer(text_input)\n",
    "    encoder = hub.KerasLayer(\"https://tfhub.dev/tensorflow/bert_en_uncased_L-12_H-768_A-12/3\", trainable=True, name='BERT_encoder')\n",
    "    outputs = encoder(encoder_inputs)\n",
    "    net = outputs['pooled_output']\n",
    "    net = tf.keras.layers.Dense(768, activation=tf.nn.relu)(net)\n",
    "    net = tf.keras.layers.Dropout(0.1)(net)\n",
    "    net = tf.keras.layers.Dense(len(Counter(array)), activation=tf.nn.softmax, name='classifier')(net)\n",
    "    return tf.keras.Model(text_input, net)"
   ]
  },
  {
   "cell_type": "code",
   "execution_count": 15,
   "metadata": {
    "ExecuteTime": {
     "end_time": "2021-04-03T04:12:29.619989Z",
     "start_time": "2021-04-03T04:12:11.674132Z"
    }
   },
   "outputs": [
    {
     "name": "stderr",
     "output_type": "stream",
     "text": [
      "INFO:absl:Using /var/folders/vq/5y7rwc491vv6t4sh906bnm8c0000gn/T/tfhub_modules to cache modules.\n"
     ]
    }
   ],
   "source": [
    "ask_ubuntu_model = build_classifier_model(askubuntu_y_train)\n",
    "\n",
    "epochs = 5\n",
    "\n",
    "ask_ubuntu_model.compile(optimizer=\"adam\",\n",
    "                         loss=\"sparse_categorical_crossentropy\",\n",
    "                         metrics=[\"accuracy\"])"
   ]
  },
  {
   "cell_type": "code",
   "execution_count": 16,
   "metadata": {
    "ExecuteTime": {
     "end_time": "2021-04-03T04:12:29.643931Z",
     "start_time": "2021-04-03T04:12:29.622261Z"
    }
   },
   "outputs": [
    {
     "name": "stdout",
     "output_type": "stream",
     "text": [
      "Model: \"model\"\n",
      "__________________________________________________________________________________________________\n",
      "Layer (type)                    Output Shape         Param #     Connected to                     \n",
      "==================================================================================================\n",
      "text (InputLayer)               [(None,)]            0                                            \n",
      "__________________________________________________________________________________________________\n",
      "preprocessing (KerasLayer)      {'input_type_ids': ( 0           text[0][0]                       \n",
      "__________________________________________________________________________________________________\n",
      "BERT_encoder (KerasLayer)       {'pooled_output': (N 109482241   preprocessing[0][0]              \n",
      "                                                                 preprocessing[0][1]              \n",
      "                                                                 preprocessing[0][2]              \n",
      "__________________________________________________________________________________________________\n",
      "dense (Dense)                   (None, 768)          590592      BERT_encoder[0][13]              \n",
      "__________________________________________________________________________________________________\n",
      "dropout_38 (Dropout)            (None, 768)          0           dense[0][0]                      \n",
      "__________________________________________________________________________________________________\n",
      "classifier (Dense)              (None, 5)            3845        dropout_38[0][0]                 \n",
      "==================================================================================================\n",
      "Total params: 110,076,678\n",
      "Trainable params: 110,076,677\n",
      "Non-trainable params: 1\n",
      "__________________________________________________________________________________________________\n"
     ]
    }
   ],
   "source": [
    "ask_ubuntu_model.summary()"
   ]
  },
  {
   "cell_type": "code",
   "execution_count": 17,
   "metadata": {
    "ExecuteTime": {
     "end_time": "2021-04-03T04:16:31.910207Z",
     "start_time": "2021-04-03T04:12:29.651053Z"
    }
   },
   "outputs": [
    {
     "name": "stdout",
     "output_type": "stream",
     "text": [
      "Training baseline model AskUbuntu\n",
      "Epoch 1/5\n",
      "2/2 [==============================] - 65s 15s/step - loss: 1.6406 - accuracy: 0.2788 - val_loss: 2.2567 - val_accuracy: 0.1818\n",
      "Epoch 2/5\n",
      "2/2 [==============================] - 48s 12s/step - loss: 3.0275 - accuracy: 0.2158 - val_loss: 2.1586 - val_accuracy: 0.2727\n",
      "Epoch 3/5\n",
      "2/2 [==============================] - 47s 14s/step - loss: 2.3849 - accuracy: 0.2421 - val_loss: 2.1379 - val_accuracy: 0.0909\n",
      "Epoch 4/5\n",
      "2/2 [==============================] - 43s 9s/step - loss: 3.8317 - accuracy: 0.2738 - val_loss: 3.4182 - val_accuracy: 0.2727\n",
      "Epoch 5/5\n",
      "2/2 [==============================] - 39s 9s/step - loss: 3.6311 - accuracy: 0.2212 - val_loss: 5.2389 - val_accuracy: 0.0909\n"
     ]
    }
   ],
   "source": [
    "print('Training baseline model AskUbuntu')\n",
    "history_askubuntu = ask_ubuntu_model.fit(x = askubuntu_X_train, y = askubuntu_y_train,\n",
    "                               validation_data=(askubuntu_X_val, askubuntu_y_val),\n",
    "                               epochs=epochs)"
   ]
  },
  {
   "cell_type": "code",
   "execution_count": 18,
   "metadata": {
    "ExecuteTime": {
     "end_time": "2021-04-03T04:17:02.930621Z",
     "start_time": "2021-04-03T04:16:31.932312Z"
    }
   },
   "outputs": [
    {
     "name": "stdout",
     "output_type": "stream",
     "text": [
      "1/1 [==============================] - 31s 31s/step - loss: 5.2967 - accuracy: 0.1193\n",
      "Loss: 5.296701908111572\n",
      "Accuracy: 0.11926605552434921\n"
     ]
    }
   ],
   "source": [
    "loss, accuracy = ask_ubuntu_model.evaluate(askubuntu_X_test, askubuntu_y_test, batch_size=128)\n",
    "\n",
    "print(f'Loss: {loss}')\n",
    "print(f'Accuracy: {accuracy}')"
   ]
  },
  {
   "cell_type": "code",
   "execution_count": null,
   "metadata": {
    "ExecuteTime": {
     "end_time": "2021-04-01T16:57:22.225930Z",
     "start_time": "2021-04-01T16:56:22.660655Z"
    }
   },
   "outputs": [],
   "source": [
    "dataset_name = 'askubuntu_baseline'\n",
    "saved_model_path = 'baselines/{}_bert'.format(dataset_name.replace('/', '_'))\n",
    "\n",
    "ask_ubuntu_model.save(saved_model_path, include_optimizer=False)"
   ]
  },
  {
   "cell_type": "markdown",
   "metadata": {},
   "source": [
    "## ChatBot"
   ]
  },
  {
   "cell_type": "code",
   "execution_count": 19,
   "metadata": {
    "ExecuteTime": {
     "end_time": "2021-04-03T04:17:44.400507Z",
     "start_time": "2021-04-03T04:17:21.373293Z"
    }
   },
   "outputs": [],
   "source": [
    "chatbot_model = build_classifier_model(chatbot_y_train)\n",
    "\n",
    "loss = tf.keras.losses.BinaryCrossentropy(from_logits=False)\n",
    "metrics = tf.metrics.BinaryAccuracy()\n",
    "\n",
    "epochs = 5\n",
    "\n",
    "chatbot_model.compile(optimizer=\"adam\",\n",
    "                         loss=loss,\n",
    "                         metrics=metrics)"
   ]
  },
  {
   "cell_type": "code",
   "execution_count": 20,
   "metadata": {
    "ExecuteTime": {
     "end_time": "2021-04-03T04:25:34.223701Z",
     "start_time": "2021-04-03T04:25:34.176121Z"
    }
   },
   "outputs": [
    {
     "name": "stdout",
     "output_type": "stream",
     "text": [
      "Model: \"model_1\"\n",
      "__________________________________________________________________________________________________\n",
      "Layer (type)                    Output Shape         Param #     Connected to                     \n",
      "==================================================================================================\n",
      "text (InputLayer)               [(None,)]            0                                            \n",
      "__________________________________________________________________________________________________\n",
      "preprocessing (KerasLayer)      {'input_word_ids': ( 0           text[0][0]                       \n",
      "__________________________________________________________________________________________________\n",
      "BERT_encoder (KerasLayer)       {'default': (None, 7 109482241   preprocessing[0][0]              \n",
      "                                                                 preprocessing[0][1]              \n",
      "                                                                 preprocessing[0][2]              \n",
      "__________________________________________________________________________________________________\n",
      "dense_1 (Dense)                 (None, 768)          590592      BERT_encoder[0][13]              \n",
      "__________________________________________________________________________________________________\n",
      "dropout_39 (Dropout)            (None, 768)          0           dense_1[0][0]                    \n",
      "__________________________________________________________________________________________________\n",
      "classifier (Dense)              (None, 2)            1538        dropout_39[0][0]                 \n",
      "==================================================================================================\n",
      "Total params: 110,074,371\n",
      "Trainable params: 110,074,370\n",
      "Non-trainable params: 1\n",
      "__________________________________________________________________________________________________\n"
     ]
    }
   ],
   "source": [
    "chatbot_model.summary()"
   ]
  },
  {
   "cell_type": "code",
   "execution_count": 21,
   "metadata": {
    "ExecuteTime": {
     "end_time": "2021-04-03T04:24:47.707369Z",
     "start_time": "2021-04-03T04:17:44.472965Z"
    }
   },
   "outputs": [
    {
     "name": "stdout",
     "output_type": "stream",
     "text": [
      "Training baseline model Chatbot\n",
      "Epoch 1/5\n",
      "3/3 [==============================] - 105s 28s/step - loss: 1.2906 - binary_accuracy: 0.5000 - val_loss: 3.6060 - val_binary_accuracy: 0.5000\n",
      "Epoch 2/5\n",
      "3/3 [==============================] - 80s 24s/step - loss: 2.9974 - binary_accuracy: 0.5000 - val_loss: 0.7460 - val_binary_accuracy: 0.5000\n",
      "Epoch 3/5\n",
      "3/3 [==============================] - 78s 24s/step - loss: 0.8695 - binary_accuracy: 0.5000 - val_loss: 0.8443 - val_binary_accuracy: 0.5000\n",
      "Epoch 4/5\n",
      "3/3 [==============================] - 81s 25s/step - loss: 0.7840 - binary_accuracy: 0.5000 - val_loss: 0.7274 - val_binary_accuracy: 0.5000\n",
      "Epoch 5/5\n",
      "3/3 [==============================] - 79s 24s/step - loss: 0.7512 - binary_accuracy: 0.5000 - val_loss: 0.7365 - val_binary_accuracy: 0.5000\n"
     ]
    }
   ],
   "source": [
    "print('Training baseline model Chatbot')\n",
    "history_chatbot = chatbot_model.fit(x = chatbot_X_train, y = chatbot_y_train,\n",
    "                               validation_data=(chatbot_X_val, chatbot_y_val),\n",
    "                               epochs=epochs)"
   ]
  },
  {
   "cell_type": "code",
   "execution_count": 22,
   "metadata": {
    "ExecuteTime": {
     "end_time": "2021-04-03T04:25:09.862192Z",
     "start_time": "2021-04-03T04:24:47.745524Z"
    }
   },
   "outputs": [
    {
     "name": "stdout",
     "output_type": "stream",
     "text": [
      "1/1 [==============================] - 21s 21s/step - loss: 0.7365 - binary_accuracy: 0.5000\n",
      "Loss: 0.7365376353263855\n",
      "Accuracy: 0.5\n"
     ]
    }
   ],
   "source": [
    "loss, accuracy = chatbot_model.evaluate(chatbot_X_test, chatbot_y_test, batch_size=128)\n",
    "\n",
    "print(f'Loss: {loss}')\n",
    "print(f'Accuracy: {accuracy}')"
   ]
  },
  {
   "cell_type": "code",
   "execution_count": null,
   "metadata": {
    "ExecuteTime": {
     "end_time": "2021-04-01T16:59:25.491731Z",
     "start_time": "2021-04-01T16:57:22.244106Z"
    }
   },
   "outputs": [],
   "source": [
    "dataset_name = 'chatbot_baseline'\n",
    "saved_model_path = 'baselines/{}_bert'.format(dataset_name.replace('/', '_'))\n",
    "\n",
    "chatbot_model.save(saved_model_path, include_optimizer=False)"
   ]
  },
  {
   "cell_type": "markdown",
   "metadata": {},
   "source": [
    "## WebApps"
   ]
  },
  {
   "cell_type": "code",
   "execution_count": 23,
   "metadata": {
    "ExecuteTime": {
     "end_time": "2021-04-03T04:25:34.170156Z",
     "start_time": "2021-04-03T04:25:09.865778Z"
    }
   },
   "outputs": [],
   "source": [
    "webapps_model = build_classifier_model(webapps_y_train)\n",
    "\n",
    "#loss = tf.keras.losses.CategoricalCrossentropy(from_logits=False, reduction=\"auto\", name=\"sparse_categorical_crossentropy\")\n",
    "#metrics = tf.metrics.Accuracy()\n",
    "\n",
    "epochs = 5\n",
    "\n",
    "webapps_model.compile(optimizer=\"adam\",\n",
    "                         loss=\"sparse_categorical_crossentropy\",\n",
    "                         metrics=[\"accuracy\"])"
   ]
  },
  {
   "cell_type": "code",
   "execution_count": 24,
   "metadata": {
    "ExecuteTime": {
     "end_time": "2021-04-03T04:25:34.223701Z",
     "start_time": "2021-04-03T04:25:34.176121Z"
    }
   },
   "outputs": [
    {
     "name": "stdout",
     "output_type": "stream",
     "text": [
      "Model: \"model_2\"\n",
      "__________________________________________________________________________________________________\n",
      "Layer (type)                    Output Shape         Param #     Connected to                     \n",
      "==================================================================================================\n",
      "text (InputLayer)               [(None,)]            0                                            \n",
      "__________________________________________________________________________________________________\n",
      "preprocessing (KerasLayer)      {'input_type_ids': ( 0           text[0][0]                       \n",
      "__________________________________________________________________________________________________\n",
      "BERT_encoder (KerasLayer)       {'pooled_output': (N 109482241   preprocessing[0][0]              \n",
      "                                                                 preprocessing[0][1]              \n",
      "                                                                 preprocessing[0][2]              \n",
      "__________________________________________________________________________________________________\n",
      "dense_2 (Dense)                 (None, 768)          590592      BERT_encoder[0][13]              \n",
      "__________________________________________________________________________________________________\n",
      "dropout_40 (Dropout)            (None, 768)          0           dense_2[0][0]                    \n",
      "__________________________________________________________________________________________________\n",
      "classifier (Dense)              (None, 8)            6152        dropout_40[0][0]                 \n",
      "==================================================================================================\n",
      "Total params: 110,078,985\n",
      "Trainable params: 110,078,984\n",
      "Non-trainable params: 1\n",
      "__________________________________________________________________________________________________\n"
     ]
    }
   ],
   "source": [
    "webapps_model.summary()"
   ]
  },
  {
   "cell_type": "code",
   "execution_count": 25,
   "metadata": {
    "ExecuteTime": {
     "end_time": "2021-04-03T04:28:06.253515Z",
     "start_time": "2021-04-03T04:25:34.226579Z"
    }
   },
   "outputs": [
    {
     "name": "stdout",
     "output_type": "stream",
     "text": [
      "Training baseline model WebApps\n",
      "Epoch 1/5\n",
      "1/1 [==============================] - 43s 43s/step - loss: 2.3305 - accuracy: 0.1250 - val_loss: 2.0459 - val_accuracy: 0.0000e+00\n",
      "Epoch 2/5\n",
      "1/1 [==============================] - 24s 24s/step - loss: 2.0015 - accuracy: 0.1667 - val_loss: 3.0068 - val_accuracy: 0.0000e+00\n",
      "Epoch 3/5\n",
      "1/1 [==============================] - 24s 24s/step - loss: 3.6579 - accuracy: 0.2917 - val_loss: 1.0422 - val_accuracy: 0.3333\n",
      "Epoch 4/5\n",
      "1/1 [==============================] - 24s 24s/step - loss: 2.7765 - accuracy: 0.1667 - val_loss: 5.6796 - val_accuracy: 0.0000e+00\n",
      "Epoch 5/5\n",
      "1/1 [==============================] - 36s 36s/step - loss: 4.3819 - accuracy: 0.0833 - val_loss: 4.6051 - val_accuracy: 0.0000e+00\n"
     ]
    }
   ],
   "source": [
    "print('Training baseline model WebApps')\n",
    "history_webapps = webapps_model.fit(x = webapps_X_train, y = webapps_y_train,\n",
    "                               validation_data=(webapps_X_val, webapps_y_val),\n",
    "                               epochs=epochs)"
   ]
  },
  {
   "cell_type": "code",
   "execution_count": 26,
   "metadata": {
    "ExecuteTime": {
     "end_time": "2021-04-03T04:28:20.930284Z",
     "start_time": "2021-04-03T04:28:06.295756Z"
    }
   },
   "outputs": [
    {
     "name": "stdout",
     "output_type": "stream",
     "text": [
      "1/1 [==============================] - 14s 14s/step - loss: 4.0079 - accuracy: 0.1695\n",
      "Loss: 4.0078840255737305\n",
      "Accuracy: 0.16949152946472168\n"
     ]
    }
   ],
   "source": [
    "loss, accuracy = webapps_model.evaluate(webapps_X_test, webapps_y_test, batch_size=128)\n",
    "\n",
    "print(f'Loss: {loss}')\n",
    "print(f'Accuracy: {accuracy}')"
   ]
  },
  {
   "cell_type": "code",
   "execution_count": null,
   "metadata": {
    "ExecuteTime": {
     "end_time": "2021-04-01T17:00:43.698762Z",
     "start_time": "2021-04-01T16:59:25.641721Z"
    }
   },
   "outputs": [],
   "source": [
    "dataset_name = 'webapps_baseline'\n",
    "saved_model_path = 'baselines/{}_bert'.format(dataset_name.replace('/', '_'))\n",
    "\n",
    "webapps_model.save(saved_model_path, include_optimizer=False)"
   ]
  },
  {
   "cell_type": "code",
   "execution_count": null,
   "metadata": {},
   "outputs": [],
   "source": []
  }
 ],
 "metadata": {
  "hide_input": false,
  "kernelspec": {
   "display_name": "Python 3",
   "language": "python",
   "name": "python3"
  },
  "language_info": {
   "codemirror_mode": {
    "name": "ipython",
    "version": 3
   },
   "file_extension": ".py",
   "mimetype": "text/x-python",
   "name": "python",
   "nbconvert_exporter": "python",
   "pygments_lexer": "ipython3",
   "version": "3.8.5"
  },
  "latex_envs": {
   "LaTeX_envs_menu_present": true,
   "autoclose": false,
   "autocomplete": true,
   "bibliofile": "biblio.bib",
   "cite_by": "apalike",
   "current_citInitial": 1,
   "eqLabelWithNumbers": true,
   "eqNumInitial": 1,
   "hotkeys": {
    "equation": "Ctrl-E",
    "itemize": "Ctrl-I"
   },
   "labels_anchors": false,
   "latex_user_defs": false,
   "report_style_numbering": false,
   "user_envs_cfg": false
  },
  "toc": {
   "base_numbering": 1,
   "nav_menu": {},
   "number_sections": true,
   "sideBar": true,
   "skip_h1_title": false,
   "title_cell": "Table of Contents",
   "title_sidebar": "Contents",
   "toc_cell": false,
   "toc_position": {},
   "toc_section_display": true,
   "toc_window_display": false
  }
 },
 "nbformat": 4,
 "nbformat_minor": 4
}
